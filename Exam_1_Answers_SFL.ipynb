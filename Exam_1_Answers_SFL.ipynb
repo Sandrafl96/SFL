{
 "cells": [
  {
   "cell_type": "markdown",
   "metadata": {},
   "source": [
    "Problem 2:"
   ]
  },
  {
   "cell_type": "code",
   "execution_count": null,
   "metadata": {},
   "outputs": [],
   "source": [
    "ls -l Locus_Germplasm_Phenotype_20130122.txt #This show you the ownership of the file\n",
    "ls -lh Locus_Germplasm_Phenotype_20130122.txt #Shows lenght in a human readable way"
   ]
  },
  {
   "cell_type": "markdown",
   "metadata": {},
   "source": [
    "When you check the ownership, you have three different actions for 3 different \"people\". First of all you have the permission read that it's represented by a \"r\", write \"w\" or executed \"x\". We also see 3 different groups. Each group have their own permissions. The first permission groups belong to the user, the second to the group in which a certain number of users are included and have a certain permission and finally, the thrid permission group that belong to any user.\n",
    "\n",
    "In Locus_Germplasm_Phenotype_20130122.txt file, the permissions are the followings, rw-rw-r--, which means that the user can read the file, write the file (edit it) but it cannot be executed. The same happens for the groups, however, when it comes to \"anyone\", the file can only be read it."
   ]
  },
  {
   "cell_type": "markdown",
   "metadata": {},
   "source": []
  },
  {
   "cell_type": "markdown",
   "metadata": {},
   "source": [
    "Problem 3:"
   ]
  },
  {
   "cell_type": "code",
   "execution_count": null,
   "metadata": {},
   "outputs": [],
   "source": [
    "head -1 Locus_Germplasm_Phenotype_20130122.txt #The background says that there is a line at the beggining of the file that belongs to the headers. \n",
    "#Whit this command, the first line (the headers) can be shown"
   ]
  },
  {
   "cell_type": "raw",
   "metadata": {},
   "source": []
  },
  {
   "cell_type": "markdown",
   "metadata": {},
   "source": [
    "Problem 4:"
   ]
  },
  {
   "cell_type": "code",
   "execution_count": null,
   "metadata": {},
   "outputs": [],
   "source": [
    "wc -l Locus_Germplasm_Phenotype_20130122.txt\n",
    "#The file has 7216"
   ]
  },
  {
   "cell_type": "markdown",
   "metadata": {},
   "source": []
  },
  {
   "cell_type": "markdown",
   "metadata": {},
   "source": [
    "Problem 5:"
   ]
  },
  {
   "cell_type": "code",
   "execution_count": null,
   "metadata": {},
   "outputs": [],
   "source": [
    "touch Data_Only.csv\n",
    "#A new file is created \"Data_Only.csv\"\n",
    "tail -7215 Locus_Germplasm_Phenotype_20130122.txt > Data_Only.csv\n",
    "#The headers are on the first line. Knowing the number of lines (7216), we can ask for the tail discarting the first line, the headers.\n",
    "#By using tail command, 7215 lines can be seen starting by the bottom. With > command, all the information wanted is redistribute to the new file previously created. In other words, the output is direct to another file"
   ]
  },
  {
   "cell_type": "markdown",
   "metadata": {},
   "source": []
  },
  {
   "cell_type": "markdown",
   "metadata": {},
   "source": [
    "Problem 6:"
   ]
  },
  {
   "cell_type": "code",
   "execution_count": null,
   "metadata": {},
   "outputs": [],
   "source": [
    "grep -n \"root\" Locus_Germplasm_Phenotype_20130122.txt\n",
    "#With grep, we search for the word \"root\"\n",
    "#-n give us the number of the line in which the word root is find"
   ]
  },
  {
   "cell_type": "markdown",
   "metadata": {},
   "source": []
  },
  {
   "cell_type": "markdown",
   "metadata": {},
   "source": [
    "Problem 7:"
   ]
  },
  {
   "cell_type": "code",
   "execution_count": null,
   "metadata": {},
   "outputs": [],
   "source": [
    "touch Root-associated-Loci.txt\n",
    "#New file created\n",
    "grep -Eio 'AT[1-5]G[0-9]{5}.*root' Locus_Germplasm_Phenotype_20130122.txt > Root-associated-Loci.txt\n",
    "#we search for a certain pattern\n",
    "#-E is required to add an extension\n",
    "#-i makes the search no insensitive to case\n",
    "#-o prints only the match\n",
    "# extension meaning: \n",
    "    #AT: we are searching for an AT (either lower or upper case)\n",
    "    #[1-5]a number between 1 and 5\n",
    "    #G:a G (either lower or upper case)\n",
    "    #[0-9]{5}:five numbers between 0 and 9 \n",
    "    #.*: anything, no matter how many characters. We use this because  we want to search for 2 different conditions in the same line\n",
    "    #root: the word root"
   ]
  },
  {
   "cell_type": "markdown",
   "metadata": {},
   "source": []
  },
  {
   "cell_type": "markdown",
   "metadata": {},
   "source": [
    "Problem 8:"
   ]
  },
  {
   "cell_type": "code",
   "execution_count": null,
   "metadata": {},
   "outputs": [],
   "source": [
    "touch Root-associated-Publications.txt\n",
    "#New file created\n",
    "grep -Eo '[0-9]+.*root' Locus_Germplasm_Phenotype_20130122.txt > Root-associated-Publications.txt\n",
    "#Pattern searching\n",
    "#-E: an extension is going to be added\n",
    "#-o: shows only the matches\n",
    "#extension meaning:\n",
    "    #[0-9]+: we are looking for several number between 0 and 9, no matter how many\n",
    "    #.*: whatever, no matter how many characters. We use this for the same reason that before\n",
    "    #root: the word root\n",
    "# >:output direct to the new file previously created"
   ]
  },
  {
   "cell_type": "markdown",
   "metadata": {},
   "source": []
  },
  {
   "cell_type": "markdown",
   "metadata": {},
   "source": [
    "Problem 9:"
   ]
  },
  {
   "cell_type": "code",
   "execution_count": null,
   "metadata": {},
   "outputs": [],
   "source": [
    "touch NumberChroOri.txt\n",
    "#New file created\n",
    "grep -n \"root\" Locus_Germplasm_Phenotype_20130122.txt> NumberChroOri.txt\n",
    "#Search for the word \"root\" in the file Locus_Germplasm_Phenotype_20130122.txt (all the data)\n",
    "#>: output direct to new file previously created\n",
    "wc -l NumberChroOri\n",
    "#Check the number of lines (54)\n",
    "\n",
    "touch NumberChroSearch.txt\n",
    "#New file created\n",
    "grep -Eio 'AT[1-5].*root'Root-associated-Loci.txt > NumberChroSearch.txt\n",
    "#Look for the chromosomes and the word root in the same line\n",
    "#>:output directed to a new file previously created\n",
    "wc -l NumberChroSearch\n",
    "#Check the number of lines (858)"
   ]
  },
  {
   "cell_type": "markdown",
   "metadata": {},
   "source": [
    "No, the hypothesis is not true. The number of lines in NumberChroOri.txt is not the same that the number of lines in NumberChroSearch.txt"
   ]
  },
  {
   "cell_type": "markdown",
   "metadata": {},
   "source": []
  },
  {
   "cell_type": "markdown",
   "metadata": {},
   "source": [
    "Problem 10:"
   ]
  },
  {
   "cell_type": "code",
   "execution_count": null,
   "metadata": {},
   "outputs": [],
   "source": []
  }
 ],
 "metadata": {
  "kernelspec": {
   "display_name": "Bash",
   "language": "bash",
   "name": "bash"
  },
  "language_info": {
   "codemirror_mode": "shell",
   "file_extension": ".sh",
   "mimetype": "text/x-sh",
   "name": "bash"
  }
 },
 "nbformat": 4,
 "nbformat_minor": 2
}
